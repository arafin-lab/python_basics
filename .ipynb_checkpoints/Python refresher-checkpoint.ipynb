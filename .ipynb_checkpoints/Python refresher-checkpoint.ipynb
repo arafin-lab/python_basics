{
 "cells": [
  {
   "cell_type": "markdown",
   "metadata": {},
   "source": [
    "# This is a Python refresher notebook.\n"
   ]
  },
  {
   "cell_type": "markdown",
   "metadata": {},
   "source": [
    "## Core Data Types"
   ]
  },
  {
   "cell_type": "markdown",
   "metadata": {},
   "source": [
    "### Numbers"
   ]
  },
  {
   "cell_type": "code",
   "execution_count": 1,
   "metadata": {},
   "outputs": [
    {
     "name": "stdout",
     "output_type": "stream",
     "text": [
      "1234 12.34\n"
     ]
    }
   ],
   "source": [
    "n1 = 1234\n",
    "n2 = 12.34\n",
    "print(n1, n2)"
   ]
  },
  {
   "cell_type": "markdown",
   "metadata": {},
   "source": [
    "### Strings"
   ]
  },
  {
   "cell_type": "code",
   "execution_count": 2,
   "metadata": {},
   "outputs": [
    {
     "name": "stdout",
     "output_type": "stream",
     "text": [
      "bob Bob's\n"
     ]
    }
   ],
   "source": [
    "s1 = 'bob'\n",
    "s2 = \"Bob's\"\n",
    "print(s1, s2)"
   ]
  },
  {
   "cell_type": "markdown",
   "metadata": {},
   "source": [
    "### Tuples  "
   ]
  },
  {
   "cell_type": "code",
   "execution_count": 3,
   "metadata": {},
   "outputs": [
    {
     "name": "stdout",
     "output_type": "stream",
     "text": [
      "(1, 2, 3) (1, 'spam', 4, 'U') ('s', 'p', 'a', 'm')\n"
     ]
    }
   ],
   "source": [
    "t1 = (1,2,3)\n",
    "t2 = (1,'spam',4,'U')\n",
    "t3 = tuple('spam')\n",
    "print(t1, t2, t3)"
   ]
  },
  {
   "cell_type": "markdown",
   "metadata": {},
   "source": [
    "### Lists "
   ]
  },
  {
   "cell_type": "code",
   "execution_count": 4,
   "metadata": {},
   "outputs": [
    {
     "name": "stdout",
     "output_type": "stream",
     "text": [
      "[1, [2, ['three', 'four']], 5, 6, [7, 8]] [0, 1, 2, 3, 4, 5, 6, 7, 8, 9]\n"
     ]
    }
   ],
   "source": [
    "l1 = [1,[2,[\"three\", \"four\"]],5, 6,[7,8]] \n",
    "l2 = list(range(10))\n",
    "print(l1, l2)"
   ]
  },
  {
   "cell_type": "markdown",
   "metadata": {},
   "source": [
    "### Sets"
   ]
  },
  {
   "cell_type": "code",
   "execution_count": 5,
   "metadata": {},
   "outputs": [
    {
     "name": "stdout",
     "output_type": "stream",
     "text": [
      "{'1', '3', '2'} {'a', 'b', 'c'}\n"
     ]
    }
   ],
   "source": [
    "st1 = {'3','2','1'}\n",
    "st2 = set('abc')\n",
    "print(st1, st2)"
   ]
  },
  {
   "cell_type": "markdown",
   "metadata": {},
   "source": [
    "### Dictionaries"
   ]
  },
  {
   "cell_type": "code",
   "execution_count": 6,
   "metadata": {},
   "outputs": [
    {
     "name": "stdout",
     "output_type": "stream",
     "text": [
      "{'food': 'spam', 'taste': 'yum'} {'hours': 10}\n"
     ]
    }
   ],
   "source": [
    "d1 = {'food':'spam', 'taste':'yum'}\n",
    "d2 = dict(hours=10)\n",
    "print (d1, d2)"
   ]
  },
  {
   "cell_type": "markdown",
   "metadata": {},
   "source": [
    "## Mutability\n",
    "\n",
    "### Immutable: You can never overwrite the values of the immutable objects. Example: Numbers, Strings, Tuples"
   ]
  },
  {
   "cell_type": "code",
   "execution_count": 7,
   "metadata": {},
   "outputs": [],
   "source": [
    "# s1[1] ='c' \n",
    "# will result in type error"
   ]
  },
  {
   "cell_type": "code",
   "execution_count": 8,
   "metadata": {},
   "outputs": [],
   "source": [
    "# t2[1] = 'remove'\n",
    "# will result in type error"
   ]
  },
  {
   "cell_type": "markdown",
   "metadata": {},
   "source": [
    "### Mutable"
   ]
  },
  {
   "cell_type": "code",
   "execution_count": 9,
   "metadata": {},
   "outputs": [
    {
     "name": "stdout",
     "output_type": "stream",
     "text": [
      "[1, 0, 5, 6, [7, 8]]\n"
     ]
    }
   ],
   "source": [
    "l1[1] = 0\n",
    "print(l1)"
   ]
  },
  {
   "cell_type": "code",
   "execution_count": 10,
   "metadata": {},
   "outputs": [
    {
     "name": "stdout",
     "output_type": "stream",
     "text": [
      "{'food': 'egg', 'taste': 'yum'}\n"
     ]
    }
   ],
   "source": [
    "d1['food'] = 'egg'\n",
    "print(d1)"
   ]
  },
  {
   "cell_type": "markdown",
   "metadata": {},
   "source": [
    "## Sequence Operation\n",
    "\n",
    "Sequence is the generic term for an ordered set. There are several types of sequences in Python, the following three are the most important: lists, tuples, strings.\n",
    "\n",
    "Common sequence operations are : indexing, slicing, concatenation"
   ]
  },
  {
   "cell_type": "code",
   "execution_count": 11,
   "metadata": {},
   "outputs": [
    {
     "name": "stdout",
     "output_type": "stream",
     "text": [
      "1 b 2\n"
     ]
    }
   ],
   "source": [
    "print(l1[0], s1[2], t1[1]) #indexing"
   ]
  },
  {
   "cell_type": "code",
   "execution_count": 12,
   "metadata": {},
   "outputs": [
    {
     "name": "stdout",
     "output_type": "stream",
     "text": [
      "[7, 8] b 2\n"
     ]
    }
   ],
   "source": [
    "print(l1[-1], s1[-1], t1[-2]) ## backward indexing"
   ]
  },
  {
   "cell_type": "code",
   "execution_count": 13,
   "metadata": {},
   "outputs": [
    {
     "name": "stdout",
     "output_type": "stream",
     "text": [
      "[5, 6] ob (1, 2)\n"
     ]
    }
   ],
   "source": [
    "print(l1[2:4], s1[1:], t1[:-1]) # slicing"
   ]
  },
  {
   "cell_type": "code",
   "execution_count": 14,
   "metadata": {},
   "outputs": [
    {
     "name": "stdout",
     "output_type": "stream",
     "text": [
      "[1, 0, 5, 6, [7, 8], 1, 0, 5, 6, [7, 8]] Bob's Mill (1, 2, 3, 1, 2, 3)\n"
     ]
    }
   ],
   "source": [
    "print(l1+l1, s2+' Mill', t1*2) # concatenation"
   ]
  },
  {
   "cell_type": "markdown",
   "metadata": {},
   "source": [
    "## Comprehensions [expression + looping construct]\n",
    "\n",
    "List comprehension: Build new lists by running an expression on each items of a sequence"
   ]
  },
  {
   "cell_type": "code",
   "execution_count": 15,
   "metadata": {},
   "outputs": [
    {
     "name": "stdout",
     "output_type": "stream",
     "text": [
      "[0, 1, 2, 3, 4, 5, 6, 7, 8, 9]\n",
      "[0, 1, 4, 9, 16, 25, 36, 49, 64, 81]\n",
      "{0: 0, 1: 1, 2: 4, 3: 9, 4: 16, 5: 25, 6: 36, 7: 49, 8: 64, 9: 81}\n",
      "<generator object <genexpr> at 0x7fa98ae18af0>\n",
      "0\n",
      "1\n",
      "8\n"
     ]
    }
   ],
   "source": [
    "print(l2)\n",
    "lc1 = [x*x for x in l2] # List comprehension\n",
    "print(lc1)\n",
    "lc2 = {x:x*x for x in l2} # Dict comprehension\n",
    "print(lc2)\n",
    "lc3 = (x**3 for x in l2) # Generator object\n",
    "print (lc3) \n",
    "print(next(lc3))\n",
    "print(next(lc3))\n",
    "print(next(lc3))"
   ]
  },
  {
   "cell_type": "code",
   "execution_count": 16,
   "metadata": {},
   "outputs": [
    {
     "name": "stdout",
     "output_type": "stream",
     "text": [
      "[1, 4, 7]\n",
      "[1, 5, 9]\n"
     ]
    }
   ],
   "source": [
    "M = [[1, 2, 3], \n",
    "     [4, 5, 6],\n",
    "     [7, 8, 9]]\n",
    "col0 = [x[0] for x in M]\n",
    "print (col0)\n",
    "diag = [M[i][i] for i in range(len(M))]\n",
    "print(diag)"
   ]
  },
  {
   "cell_type": "code",
   "execution_count": 17,
   "metadata": {},
   "outputs": [
    {
     "name": "stdout",
     "output_type": "stream",
     "text": [
      "[6, 15, 24]\n"
     ]
    }
   ],
   "source": [
    "G = (row for row in M) # generator object\n",
    "rowsums = list(map(sum,G)) \n",
    "print(rowsums)"
   ]
  },
  {
   "cell_type": "markdown",
   "metadata": {},
   "source": [
    "## Type Specific Operations"
   ]
  },
  {
   "cell_type": "markdown",
   "metadata": {},
   "source": [
    "### Numbers"
   ]
  },
  {
   "cell_type": "code",
   "execution_count": 18,
   "metadata": {},
   "outputs": [
    {
     "name": "stdout",
     "output_type": "stream",
     "text": [
      "3 6 8 1.2311444133449163\n"
     ]
    }
   ],
   "source": [
    "print(1+2, 2*3, 2**(3), 2**(0.3))"
   ]
  },
  {
   "cell_type": "markdown",
   "metadata": {},
   "source": [
    "### Strings"
   ]
  },
  {
   "cell_type": "markdown",
   "metadata": {},
   "source": [
    "Common string operations are len(), find(), replace(), split(), upper(), lower(), isalpha(), format() etc"
   ]
  },
  {
   "cell_type": "code",
   "execution_count": 19,
   "metadata": {},
   "outputs": [
    {
     "name": "stdout",
     "output_type": "stream",
     "text": [
      "12\n",
      "9\n",
      "Random words\n",
      "['Random', 'Stuff']\n"
     ]
    }
   ],
   "source": [
    "s3 = 'Random Stuff'\n",
    "print(len(s3))\n",
    "print(s3.find('uf'))\n",
    "print(s3.replace('Stuff','words')) \n",
    "## strings are immutable, so a new string will be printed\n",
    "## but there is no change in s3\n",
    "print(s3.split(' ')) "
   ]
  },
  {
   "cell_type": "markdown",
   "metadata": {},
   "source": [
    "### Lists"
   ]
  },
  {
   "cell_type": "markdown",
   "metadata": {},
   "source": [
    "Common string operations are append(), pop(), sort(), reverse()"
   ]
  },
  {
   "cell_type": "code",
   "execution_count": 20,
   "metadata": {},
   "outputs": [
    {
     "name": "stdout",
     "output_type": "stream",
     "text": [
      "[1, 0, 5, 6, [7, 8], [2, 4]]\n"
     ]
    }
   ],
   "source": [
    "l1.append([2,4])\n",
    "print(l1)"
   ]
  },
  {
   "cell_type": "code",
   "execution_count": 21,
   "metadata": {},
   "outputs": [
    {
     "name": "stdout",
     "output_type": "stream",
     "text": [
      "[1, 0, 5, 6, [7, 8]]\n",
      "[2, 4]\n"
     ]
    }
   ],
   "source": [
    "out = l1.pop()\n",
    "print(l1)\n",
    "print(out)"
   ]
  },
  {
   "cell_type": "code",
   "execution_count": 22,
   "metadata": {},
   "outputs": [
    {
     "name": "stdout",
     "output_type": "stream",
     "text": [
      "[1, 2, 2, 4, 42]\n",
      "['as', 'd', 'dd']\n"
     ]
    }
   ],
   "source": [
    "l3 = [2,4,1,2,42]\n",
    "l3.sort()\n",
    "print(l3)\n",
    "l4 = ['dd','as','d']\n",
    "l4.sort()\n",
    "print(l4)"
   ]
  },
  {
   "cell_type": "code",
   "execution_count": 23,
   "metadata": {},
   "outputs": [
    {
     "name": "stdout",
     "output_type": "stream",
     "text": [
      "[42, 4, 2, 2, 1]\n"
     ]
    }
   ],
   "source": [
    "l3.reverse()\n",
    "print(l3) # note that l3 is mutated."
   ]
  },
  {
   "cell_type": "markdown",
   "metadata": {},
   "source": [
    "## Random Numbers"
   ]
  },
  {
   "cell_type": "code",
   "execution_count": 24,
   "metadata": {},
   "outputs": [
    {
     "name": "stdout",
     "output_type": "stream",
     "text": [
      "0.1520151593322211\n",
      "4\n",
      "53\n"
     ]
    }
   ],
   "source": [
    "import random\n",
    "print(random.random())\n",
    "print(random.choice([1,2,3,4]))\n",
    "print(random.choice(list(range(100))))"
   ]
  },
  {
   "cell_type": "markdown",
   "metadata": {},
   "source": [
    "## Pattern Matching"
   ]
  },
  {
   "cell_type": "code",
   "execution_count": 25,
   "metadata": {},
   "outputs": [
    {
     "name": "stdout",
     "output_type": "stream",
     "text": [
      "None\n",
      "<_sre.SRE_Match object; span=(0, 2), match='Ra'>\n",
      "('cd', 'CD')\n",
      "('usr/home', 'etc', 'mydoc')\n"
     ]
    }
   ],
   "source": [
    "import re\n",
    "match = re.match('do', s3)\n",
    "print(match)\n",
    "match = re.match('Ra*', s3)\n",
    "print(match)\n",
    "match = re.match('ab(.*)AB(.*)end','abcdABCDend')\n",
    "print(match.groups())\n",
    "match = re.match('[/](.*)[/](.*)[/](.*)','/usr/home/etc/mydoc') \n",
    "# note how the matching is resolved\n",
    "print(match.groups())"
   ]
  },
  {
   "cell_type": "markdown",
   "metadata": {},
   "source": [
    "## Lambda Functions"
   ]
  },
  {
   "cell_type": "code",
   "execution_count": 26,
   "metadata": {},
   "outputs": [],
   "source": [
    "m = lambda x,y : x*y"
   ]
  },
  {
   "cell_type": "code",
   "execution_count": 27,
   "metadata": {},
   "outputs": [
    {
     "name": "stdout",
     "output_type": "stream",
     "text": [
      "28\n"
     ]
    }
   ],
   "source": [
    "print(m(4,7))"
   ]
  },
  {
   "cell_type": "code",
   "execution_count": 28,
   "metadata": {},
   "outputs": [
    {
     "name": "stdout",
     "output_type": "stream",
     "text": [
      "[1, 4, 9, 16]\n"
     ]
    }
   ],
   "source": [
    "nums = [1,2,3,4]\n",
    "sqr = map(lambda x: x*x, nums)\n",
    "print(list(sqr))"
   ]
  },
  {
   "cell_type": "code",
   "execution_count": 29,
   "metadata": {},
   "outputs": [
    {
     "name": "stdout",
     "output_type": "stream",
     "text": [
      "[1, 3]\n"
     ]
    }
   ],
   "source": [
    "fltr = filter(lambda x:x%2, nums) # filter out even number\n",
    "print(list(fltr))"
   ]
  },
  {
   "cell_type": "code",
   "execution_count": 30,
   "metadata": {},
   "outputs": [
    {
     "name": "stdout",
     "output_type": "stream",
     "text": [
      "[30, 20, 56, 12, 20, 56]\n",
      "[12]\n"
     ]
    }
   ],
   "source": [
    "# Map-filter can be used for list manipulations\n",
    "examples = [3,2,5,1,2,5]\n",
    "map_result = list(map(lambda x: x**2+5*x+6, examples))\n",
    "print(map_result)\n",
    "reduce_result = filter(lambda x:x in range(20), map_result)\n",
    "print(list(reduce_result))"
   ]
  },
  {
   "cell_type": "markdown",
   "metadata": {},
   "source": [
    "## Function Arguments"
   ]
  },
  {
   "cell_type": "code",
   "execution_count": 31,
   "metadata": {},
   "outputs": [
    {
     "name": "stdout",
     "output_type": "stream",
     "text": [
      "(1, 2, 3)\n",
      "{}\n",
      "(4, 5)\n",
      "{'sum': 15}\n"
     ]
    }
   ],
   "source": [
    "def g(*args, **kwargs):\n",
    "    print(args)\n",
    "    print(kwargs)\n",
    "g(1,2,3)\n",
    "g(4,5,sum=15)"
   ]
  },
  {
   "cell_type": "code",
   "execution_count": 32,
   "metadata": {},
   "outputs": [
    {
     "name": "stdout",
     "output_type": "stream",
     "text": [
      "4 5 3 2\n"
     ]
    }
   ],
   "source": [
    "def f(w,x,y,z):\n",
    "    print(w,x,y,z)\n",
    "kw ={'y' : 3, 'z':2}\n",
    "aw = (4,5)\n",
    "f(*aw, **kw)"
   ]
  },
  {
   "cell_type": "code",
   "execution_count": 33,
   "metadata": {},
   "outputs": [
    {
     "name": "stdout",
     "output_type": "stream",
     "text": [
      "42 - Arthur Dent\n",
      "42 - Arthur Dent\n"
     ]
    }
   ],
   "source": [
    "def doubleit(func, *args, **kwargs):\n",
    "    func(*args, **kwargs)\n",
    "    return func(*args, **kwargs)\n",
    "\n",
    "doubleit(print, 42, 'Arthur Dent', sep=' - ')"
   ]
  },
  {
   "cell_type": "markdown",
   "metadata": {},
   "source": [
    "## Generators"
   ]
  },
  {
   "cell_type": "code",
   "execution_count": 34,
   "metadata": {},
   "outputs": [
    {
     "name": "stdout",
     "output_type": "stream",
     "text": [
      "1\n",
      "3\n",
      "2\n",
      "4\n"
     ]
    }
   ],
   "source": [
    "def unique(iterable, key=lambda x: x):\n",
    "    seen = set()\n",
    "    for elem, ekey in ((e, key(e)) for e in iterable):\n",
    "        if ekey not in seen:\n",
    "                yield elem\n",
    "                seen.add(ekey)\n",
    "repeated_list = [1,3,3,2,3,1,4]\n",
    "y = unique(repeated_list)\n",
    "print(next(y))\n",
    "print(next(y))\n",
    "print(next(y))\n",
    "print(next(y))"
   ]
  },
  {
   "cell_type": "markdown",
   "metadata": {},
   "source": [
    "## Decorators"
   ]
  },
  {
   "cell_type": "code",
   "execution_count": 35,
   "metadata": {},
   "outputs": [
    {
     "name": "stdout",
     "output_type": "stream",
     "text": [
      "Something is happening before the function is called.\n",
      "Whee!\n",
      "Something is happening after the function is called.\n"
     ]
    }
   ],
   "source": [
    "def my_decorator(func):\n",
    "    def wrapper():\n",
    "        print(\"Something is happening before the function is called.\")\n",
    "        func()\n",
    "        print(\"Something is happening after the function is called.\")\n",
    "    return wrapper\n",
    "\n",
    "@my_decorator\n",
    "def say_whee():\n",
    "    print(\"Whee!\")\n",
    "say_whee()"
   ]
  },
  {
   "cell_type": "code",
   "execution_count": 36,
   "metadata": {},
   "outputs": [],
   "source": [
    "# Boiler plate code for decorators\n",
    "\n",
    "import functools\n",
    "\n",
    "def decorator(func):\n",
    "    @functools.wraps(func)\n",
    "    def wrapper_decorator(*args, **kwargs):\n",
    "        # Do something before\n",
    "        value = func(*args, **kwargs)\n",
    "        # Do something after\n",
    "        return value\n",
    "    return wrapper_decorator"
   ]
  },
  {
   "cell_type": "code",
   "execution_count": 37,
   "metadata": {},
   "outputs": [
    {
     "name": "stdout",
     "output_type": "stream",
     "text": [
      "Finished 'waste_some_time' in 0.0740 secs\n",
      "Finished 'waste_some_time' in 0.1017 secs\n"
     ]
    }
   ],
   "source": [
    "# Example : Time count \n",
    "import functools\n",
    "import time\n",
    "\n",
    "def timer(func):\n",
    "    \"\"\"Print the runtime of the decorated function\"\"\"\n",
    "    @functools.wraps(func)\n",
    "    def wrapper_timer(*args, **kwargs):\n",
    "        start_time = time.perf_counter()    # 1\n",
    "        value = func(*args, **kwargs)\n",
    "        end_time = time.perf_counter()      # 2\n",
    "        run_time = end_time - start_time    # 3\n",
    "        print(f\"Finished {func.__name__!r} in {run_time:.4f} secs\")\n",
    "        return value\n",
    "    return wrapper_timer\n",
    "\n",
    "@timer\n",
    "def waste_some_time(num_times):\n",
    "    for _ in range(num_times):\n",
    "        sum([i**2 for i in range(10000)])\n",
    "waste_some_time(10)\n",
    "waste_some_time(20)"
   ]
  },
  {
   "cell_type": "code",
   "execution_count": 38,
   "metadata": {},
   "outputs": [
    {
     "name": "stdout",
     "output_type": "stream",
     "text": [
      "Calling two_sum(1, 2)\n",
      "'two_sum' returned -1\n"
     ]
    },
    {
     "data": {
      "text/plain": [
       "-1"
      ]
     },
     "execution_count": 38,
     "metadata": {},
     "output_type": "execute_result"
    }
   ],
   "source": [
    "# Example: Code debug\n",
    "import functools\n",
    "\n",
    "def debug(func):\n",
    "    \"\"\"Print the function signature and return value\"\"\"\n",
    "    @functools.wraps(func)\n",
    "    def wrapper_debug(*args, **kwargs):\n",
    "        args_repr = [repr(a) for a in args]                      # 1\n",
    "        kwargs_repr = [f\"{k}={v!r}\" for k, v in kwargs.items()]  # 2\n",
    "        signature = \", \".join(args_repr + kwargs_repr)           # 3\n",
    "        print(f\"Calling {func.__name__}({signature})\")\n",
    "        value = func(*args, **kwargs)\n",
    "        print(f\"{func.__name__!r} returned {value!r}\")           # 4\n",
    "        return value\n",
    "    return wrapper_debug\n",
    "\n",
    "\n",
    "\n",
    "@debug\n",
    "def two_sum(a,b):\n",
    "    return a-b;\n",
    "\n",
    "two_sum(1,2)"
   ]
  },
  {
   "cell_type": "code",
   "execution_count": 39,
   "metadata": {},
   "outputs": [
    {
     "name": "stdout",
     "output_type": "stream",
     "text": [
      "Call 1 of 'fibonacci'\n",
      "Call 2 of 'fibonacci'\n",
      "Call 3 of 'fibonacci'\n",
      "Call 4 of 'fibonacci'\n",
      "Call 5 of 'fibonacci'\n",
      "Call 6 of 'fibonacci'\n",
      "Call 7 of 'fibonacci'\n",
      "Call 8 of 'fibonacci'\n",
      "Current cache is {(1,): 1}\n",
      "Call 9 of 'fibonacci'\n",
      "Current cache is {(1,): 1, (0,): 0}\n",
      "Current cache is {(1,): 1, (0,): 0, (2,): 1}\n",
      "Current cache is {(1,): 1, (0,): 0, (2,): 1}\n",
      "Current cache is {(1,): 1, (0,): 0, (2,): 1, (3,): 2}\n",
      "Current cache is {(1,): 1, (0,): 0, (2,): 1, (3,): 2}\n",
      "Current cache is {(1,): 1, (0,): 0, (2,): 1, (3,): 2, (4,): 3}\n",
      "Current cache is {(1,): 1, (0,): 0, (2,): 1, (3,): 2, (4,): 3}\n",
      "Current cache is {(1,): 1, (0,): 0, (2,): 1, (3,): 2, (4,): 3, (5,): 5}\n",
      "Current cache is {(1,): 1, (0,): 0, (2,): 1, (3,): 2, (4,): 3, (5,): 5}\n",
      "Current cache is {(1,): 1, (0,): 0, (2,): 1, (3,): 2, (4,): 3, (5,): 5, (6,): 8}\n",
      "Current cache is {(1,): 1, (0,): 0, (2,): 1, (3,): 2, (4,): 3, (5,): 5, (6,): 8}\n",
      "Current cache is {(1,): 1, (0,): 0, (2,): 1, (3,): 2, (4,): 3, (5,): 5, (6,): 8, (7,): 13}\n",
      "Current cache is {(1,): 1, (0,): 0, (2,): 1, (3,): 2, (4,): 3, (5,): 5, (6,): 8, (7,): 13}\n",
      "Current cache is {(1,): 1, (0,): 0, (2,): 1, (3,): 2, (4,): 3, (5,): 5, (6,): 8, (7,): 13, (8,): 21}\n",
      "Now note that no more computation is done for the next calls\n",
      "Current cache is {(1,): 1, (0,): 0, (2,): 1, (3,): 2, (4,): 3, (5,): 5, (6,): 8, (7,): 13, (8,): 21}\n",
      "fibonacci(6) is: 8\n",
      "Current cache is {(1,): 1, (0,): 0, (2,): 1, (3,): 2, (4,): 3, (5,): 5, (6,): 8, (7,): 13, (8,): 21}\n",
      "fibonacci(7) is: 13\n",
      "Current cache is {(1,): 1, (0,): 0, (2,): 1, (3,): 2, (4,): 3, (5,): 5, (6,): 8, (7,): 13, (8,): 21}\n",
      "fibonacci(8) is: 21\n",
      "See how the cached value is used\n",
      "Call 10 of 'fibonacci'\n",
      "Call 11 of 'fibonacci'\n",
      "Call 12 of 'fibonacci'\n",
      "Current cache is {(1,): 1, (0,): 0, (2,): 1, (3,): 2, (4,): 3, (5,): 5, (6,): 8, (7,): 13, (8,): 21}\n",
      "Current cache is {(1,): 1, (0,): 0, (2,): 1, (3,): 2, (4,): 3, (5,): 5, (6,): 8, (7,): 13, (8,): 21}\n",
      "Current cache is {(1,): 1, (0,): 0, (2,): 1, (3,): 2, (4,): 3, (5,): 5, (6,): 8, (7,): 13, (8,): 21, (9,): 34}\n",
      "Current cache is {(1,): 1, (0,): 0, (2,): 1, (3,): 2, (4,): 3, (5,): 5, (6,): 8, (7,): 13, (8,): 21, (9,): 34}\n",
      "Current cache is {(1,): 1, (0,): 0, (2,): 1, (3,): 2, (4,): 3, (5,): 5, (6,): 8, (7,): 13, (8,): 21, (9,): 34, (10,): 55}\n",
      "Current cache is {(1,): 1, (0,): 0, (2,): 1, (3,): 2, (4,): 3, (5,): 5, (6,): 8, (7,): 13, (8,): 21, (9,): 34, (10,): 55}\n",
      "Current cache is {(1,): 1, (0,): 0, (2,): 1, (3,): 2, (4,): 3, (5,): 5, (6,): 8, (7,): 13, (8,): 21, (9,): 34, (10,): 55, (11,): 89}\n",
      "fibonacci(11) is: 89\n"
     ]
    }
   ],
   "source": [
    "# caching and memoization\n",
    "class CountCalls:\n",
    "    def __init__(self, func):\n",
    "        functools.update_wrapper(self, func)\n",
    "        self.func = func\n",
    "        self.num_calls = 0\n",
    "\n",
    "    def __call__(self, *args, **kwargs):\n",
    "        self.num_calls += 1\n",
    "        print(f\"Call {self.num_calls} of {self.func.__name__!r}\")\n",
    "        return self.func(*args, **kwargs)\n",
    "def cache(func):\n",
    "    \"\"\"Keep a cache of previous function calls\"\"\"\n",
    "    @functools.wraps(func)\n",
    "    def wrapper_cache(*args, **kwargs):\n",
    "        cache_key = args + tuple(kwargs.items())\n",
    "        if cache_key not in wrapper_cache.cache:\n",
    "            wrapper_cache.cache[cache_key] = func(*args, **kwargs)\n",
    "        print(\"Current cache is\",wrapper_cache.cache)\n",
    "        return wrapper_cache.cache[cache_key]\n",
    "    wrapper_cache.cache = dict()\n",
    "    return wrapper_cache\n",
    "\n",
    "@cache\n",
    "@CountCalls\n",
    "def fibonacci(num):\n",
    "    if num < 2:\n",
    "        return num\n",
    "    return fibonacci(num - 1) + fibonacci(num - 2)\n",
    "fibonacci(8)\n",
    "print('Now note that no more computation is done for the next calls')\n",
    "print(\"fibonacci(6) is:\", fibonacci(6))\n",
    "print(\"fibonacci(7) is:\", fibonacci(7))\n",
    "print(\"fibonacci(8) is:\", fibonacci(8))\n",
    "print('See how the cached value is used')\n",
    "print(\"fibonacci(11) is:\", fibonacci(11))"
   ]
  },
  {
   "cell_type": "code",
   "execution_count": 40,
   "metadata": {},
   "outputs": [
    {
     "data": {
      "text/plain": [
       "True"
      ]
     },
     "execution_count": 40,
     "metadata": {},
     "output_type": "execute_result"
    }
   ],
   "source": [
    "# singletons\n",
    "import functools\n",
    "\n",
    "def singleton(cls):\n",
    "    \"\"\"Make a class a Singleton class (only one instance)\"\"\"\n",
    "    @functools.wraps(cls)\n",
    "    def wrapper_singleton(*args, **kwargs):\n",
    "        if not wrapper_singleton.instance:\n",
    "            wrapper_singleton.instance = cls(*args, **kwargs)\n",
    "        return wrapper_singleton.instance\n",
    "    wrapper_singleton.instance = None\n",
    "    return wrapper_singleton\n",
    "\n",
    "@singleton\n",
    "class TheOne:\n",
    "    pass\n",
    "first_one = TheOne()\n",
    "another_one = TheOne()\n",
    "id(first_one)\n",
    "id(another_one)\n",
    "first_one is another_one"
   ]
  }
 ],
 "metadata": {
  "kernelspec": {
   "display_name": "Python 3",
   "language": "python",
   "name": "python3"
  },
  "language_info": {
   "codemirror_mode": {
    "name": "ipython",
    "version": 3
   },
   "file_extension": ".py",
   "mimetype": "text/x-python",
   "name": "python",
   "nbconvert_exporter": "python",
   "pygments_lexer": "ipython3",
   "version": "3.6.1"
  }
 },
 "nbformat": 4,
 "nbformat_minor": 4
}
